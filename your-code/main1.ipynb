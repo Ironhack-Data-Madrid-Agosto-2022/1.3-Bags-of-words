{
 "cells": [
  {
   "cell_type": "markdown",
   "metadata": {},
   "source": [
    "Define `docs` array that contains the paths of `doc1.txt`, `doc2.txt`, and `doc3.txt`."
   ]
  },
  {
   "cell_type": "code",
   "execution_count": 21,
   "metadata": {},
   "outputs": [],
   "source": [
    "docs = ['doc1.txt', 'doc2.txt', 'doc3.txt']\n",
    "\n",
    "#/Users/mar/1.3-Bags-of-words/your-code"
   ]
  },
  {
   "cell_type": "code",
   "execution_count": 72,
   "metadata": {},
   "outputs": [
    {
     "ename": "TypeError",
     "evalue": "unsupported operand type(s) for +: '_io.TextIOWrapper' and '_io.TextIOWrapper'",
     "output_type": "error",
     "traceback": [
      "\u001b[0;31m---------------------------------------------------------------------------\u001b[0m",
      "\u001b[0;31mTypeError\u001b[0m                                 Traceback (most recent call last)",
      "Input \u001b[0;32mIn [72]\u001b[0m, in \u001b[0;36m<cell line: 6>\u001b[0;34m()\u001b[0m\n\u001b[1;32m      2\u001b[0m doc2\u001b[38;5;241m=\u001b[39m\u001b[38;5;28mopen\u001b[39m (\u001b[38;5;124m'\u001b[39m\u001b[38;5;124mdoc2.txt\u001b[39m\u001b[38;5;124m'\u001b[39m, mode\u001b[38;5;241m=\u001b[39m\u001b[38;5;124m'\u001b[39m\u001b[38;5;124mr\u001b[39m\u001b[38;5;124m'\u001b[39m)\n\u001b[1;32m      3\u001b[0m doc3\u001b[38;5;241m=\u001b[39m\u001b[38;5;28mopen\u001b[39m (\u001b[38;5;124m'\u001b[39m\u001b[38;5;124mdoc3.txt\u001b[39m\u001b[38;5;124m'\u001b[39m, mode\u001b[38;5;241m=\u001b[39m\u001b[38;5;124m'\u001b[39m\u001b[38;5;124mr\u001b[39m\u001b[38;5;124m'\u001b[39m)\n\u001b[0;32m----> 6\u001b[0m corpus2\u001b[38;5;241m=\u001b[39m[\u001b[43mdoc1\u001b[49m\u001b[38;5;241;43m+\u001b[39;49m\u001b[43mdoc2\u001b[49m\u001b[38;5;241m+\u001b[39mdoc3]\n\u001b[1;32m      7\u001b[0m \u001b[38;5;28mprint\u001b[39m(corpus2)\n",
      "\u001b[0;31mTypeError\u001b[0m: unsupported operand type(s) for +: '_io.TextIOWrapper' and '_io.TextIOWrapper'"
     ]
    }
   ],
   "source": [
    "doc1=open ('doc1.txt', mode='r')\n",
    "doc2=open ('doc2.txt', mode='r')\n",
    "doc3=open ('doc3.txt', mode='r')\n"
   ]
  },
  {
   "cell_type": "code",
   "execution_count": 23,
   "metadata": {},
   "outputs": [
    {
     "name": "stdout",
     "output_type": "stream",
     "text": [
      "['I am a student at Ironhack.']\n"
     ]
    }
   ],
   "source": [
    "doc1_list=[doc1.read()]\n",
    "doc2_list=[doc2.read()]\n",
    "doc3_list=[doc3.read()]\n",
    "\n",
    "print(doc3_list)\n",
    "\n"
   ]
  },
  {
   "cell_type": "markdown",
   "metadata": {},
   "source": [
    "Define an empty array `corpus` that will contain the content strings of the docs. Loop `docs` and read the content of each doc into the `corpus` array."
   ]
  },
  {
   "cell_type": "code",
   "execution_count": 73,
   "metadata": {},
   "outputs": [
    {
     "name": "stdout",
     "output_type": "stream",
     "text": [
      "['Ironhack is cool.', 'I love Ironhack.', 'I am a student at Ironhack.']\n"
     ]
    }
   ],
   "source": [
    "corpus = doc1_list+doc2_list+doc3_list\n",
    "print(corpus)\n",
    "\n",
    "#corpus=[]\n",
    "#for i in docs:\n",
    "#    docs.read()\n",
    "#    print (corpus)\n",
    "    \n",
    "    \n",
    "    \n",
    "    \n",
    "#    ?????????\n",
    "#'''\n",
    "\n",
    "\n",
    "# Write your code here"
   ]
  },
  {
   "cell_type": "markdown",
   "metadata": {},
   "source": [
    "Print `corpus`."
   ]
  },
  {
   "cell_type": "code",
   "execution_count": 59,
   "metadata": {},
   "outputs": [
    {
     "name": "stdout",
     "output_type": "stream",
     "text": [
      "['Ironhack is cool.', 'I love Ironhack.', 'I am a student at Ironhack.']\n"
     ]
    }
   ],
   "source": [
    "print(corpus)"
   ]
  },
  {
   "cell_type": "code",
   "execution_count": 32,
   "metadata": {},
   "outputs": [
    {
     "data": {
      "text/plain": [
       "list"
      ]
     },
     "execution_count": 32,
     "metadata": {},
     "output_type": "execute_result"
    }
   ],
   "source": [
    "type(corpus)"
   ]
  },
  {
   "cell_type": "code",
   "execution_count": null,
   "metadata": {},
   "outputs": [],
   "source": []
  },
  {
   "cell_type": "code",
   "execution_count": 61,
   "metadata": {},
   "outputs": [
    {
     "name": "stdout",
     "output_type": "stream",
     "text": [
      "['ironhack is cool.', 'i love ironhack.', 'i am a student at ironhack.']\n"
     ]
    }
   ],
   "source": [
    "result_list=[]\n",
    "for word in corpus:\n",
    "    result= word.lower()\n",
    "    result_list.append(result)\n",
    "    \n",
    "corpus=result_list\n",
    "    \n",
    "print(corpus)"
   ]
  },
  {
   "cell_type": "markdown",
   "metadata": {},
   "source": [
    "You should have seen:\n",
    "\n",
    "```['ironhack is cool', 'i love ironhack', 'i am a student at ironhack']```\n",
    "\n",
    "However, if your output is:\n",
    "\n",
    "```['Ironhack is cool.', 'I love Ironhack.', 'I am a student at Ironhack.']```\n",
    "\n",
    "This means you didn't:\n",
    "\n",
    "1. Remove punctuation from the strings;\n",
    "\n",
    "1. Convert strings to lowercase.\n",
    "\n",
    "Revise your code above until you receive the correct output for `corpus`."
   ]
  },
  {
   "cell_type": "markdown",
   "metadata": {},
   "source": [
    "Now define `bag_of_words` as an empty array. It will contain the unique terms in `corpus`.\n",
    "\n",
    "Loop through `corpus`. In each loop, do the following:\n",
    "\n",
    "1. Break the string into an array of terms. \n",
    "1. Create a sub-loop to iterate the terms array. \n",
    "  * In each sub-loop, you'll check if the current term is already contained in `bag_of_words`. If not in `bag_of_words`, append it to the array."
   ]
  },
  {
   "cell_type": "code",
   "execution_count": 71,
   "metadata": {},
   "outputs": [
    {
     "name": "stdout",
     "output_type": "stream",
     "text": [
      "['i', 'r', 'o', 'n', 'h', 'a', 'c', 'k', ' ', 'i', 's', ' ', 'c', 'o', 'o', 'l', '.', 'i', ' ', 'l', 'o', 'v', 'e', ' ', 'i', 'r', 'o', 'n', 'h', 'a', 'c', 'k', '.', 'i', ' ', 'a', 'm', ' ', 'a', ' ', 's', 't', 'u', 'd', 'e', 'n', 't', ' ', 'a', 't', ' ', 'i', 'r', 'o', 'n', 'h', 'a', 'c', 'k', '.', 'i', 'r', 'o', 'n', 'h', 'a', 'c', 'k', ' ', 'i', 's', ' ', 'c', 'o', 'o', 'l', '.', 'i', ' ', 'l', 'o', 'v', 'e', ' ', 'i', 'r', 'o', 'n', 'h', 'a', 'c', 'k', '.', 'i', ' ', 'a', 'm', ' ', 'a', ' ', 's', 't', 'u', 'd', 'e', 'n', 't', ' ', 'a', 't', ' ', 'i', 'r', 'o', 'n', 'h', 'a', 'c', 'k', '.', 'i', 'r', 'o', 'n', 'h', 'a', 'c', 'k', ' ', 'i', 's', ' ', 'c', 'o', 'o', 'l', '.', 'i', ' ', 'l', 'o', 'v', 'e', ' ', 'i', 'r', 'o', 'n', 'h', 'a', 'c', 'k', '.', 'i', ' ', 'a', 'm', ' ', 'a', ' ', 's', 't', 'u', 'd', 'e', 'n', 't', ' ', 'a', 't', ' ', 'i', 'r', 'o', 'n', 'h', 'a', 'c', 'k', '.', 'i', 'r', 'o', 'n', 'h', 'a', 'c', 'k', ' ', 'i', 's', ' ', 'c', 'o', 'o', 'l', '.', 'i', ' ', 'l', 'o', 'v', 'e', ' ', 'i', 'r', 'o', 'n', 'h', 'a', 'c', 'k', '.', 'i', ' ', 'a', 'm', ' ', 'a', ' ', 's', 't', 'u', 'd', 'e', 'n', 't', ' ', 'a', 't', ' ', 'i', 'r', 'o', 'n', 'h', 'a', 'c', 'k', '.', 'i', 'r', 'o', 'n', 'h', 'a', 'c', 'k', ' ', 'i', 's', ' ', 'c', 'o', 'o', 'l', '.', 'i', ' ', 'l', 'o', 'v', 'e', ' ', 'i', 'r', 'o', 'n', 'h', 'a', 'c', 'k', '.', 'i', ' ', 'a', 'm', ' ', 'a', ' ', 's', 't', 'u', 'd', 'e', 'n', 't', ' ', 'a', 't', ' ', 'i', 'r', 'o', 'n', 'h', 'a', 'c', 'k', '.', 'i', 'r', 'o', 'n', 'h', 'a', 'c', 'k', ' ', 'i', 's', ' ', 'c', 'o', 'o', 'l', '.', 'i', ' ', 'l', 'o', 'v', 'e', ' ', 'i', 'r', 'o', 'n', 'h', 'a', 'c', 'k', '.', 'i', ' ', 'a', 'm', ' ', 'a', ' ', 's', 't', 'u', 'd', 'e', 'n', 't', ' ', 'a', 't', ' ', 'i', 'r', 'o', 'n', 'h', 'a', 'c', 'k', '.', 'i', 'r', 'o', 'n', 'h', 'a', 'c', 'k', ' ', 'i', 's', ' ', 'c', 'o', 'o', 'l', '.', 'i', ' ', 'l', 'o', 'v', 'e', ' ', 'i', 'r', 'o', 'n', 'h', 'a', 'c', 'k', '.', 'i', ' ', 'a', 'm', ' ', 'a', ' ', 's', 't', 'u', 'd', 'e', 'n', 't', ' ', 'a', 't', ' ', 'i', 'r', 'o', 'n', 'h', 'a', 'c', 'k', '.', 'i', 'r', 'o', 'n', 'h', 'a', 'c', 'k', ' ', 'i', 's', ' ', 'c', 'o', 'o', 'l', '.', 'i', ' ', 'l', 'o', 'v', 'e', ' ', 'i', 'r', 'o', 'n', 'h', 'a', 'c', 'k', '.', 'i', ' ', 'a', 'm', ' ', 'a', ' ', 's', 't', 'u', 'd', 'e', 'n', 't', ' ', 'a', 't', ' ', 'i', 'r', 'o', 'n', 'h', 'a', 'c', 'k', '.', 'i', 'r', 'o', 'n', 'h', 'a', 'c', 'k', ' ', 'i', 's', ' ', 'c', 'o', 'o', 'l', '.', 'i', ' ', 'l', 'o', 'v', 'e', ' ', 'i', 'r', 'o', 'n', 'h', 'a', 'c', 'k', '.', 'i', ' ', 'a', 'm', ' ', 'a', ' ', 's', 't', 'u', 'd', 'e', 'n', 't', ' ', 'a', 't', ' ', 'i', 'r', 'o', 'n', 'h', 'a', 'c', 'k', '.', 'i', 'r', 'o', 'n', 'h', 'a', 'c', 'k', ' ', 'i', 's', ' ', 'c', 'o', 'o', 'l', '.', 'i', ' ', 'l', 'o', 'v', 'e', ' ', 'i', 'r', 'o', 'n', 'h', 'a', 'c', 'k', '.', 'i', ' ', 'a', 'm', ' ', 'a', ' ', 's', 't', 'u', 'd', 'e', 'n', 't', ' ', 'a', 't', ' ', 'i', 'r', 'o', 'n', 'h', 'a', 'c', 'k', '.', 'i', 'r', 'o', 'n', 'h', 'a', 'c', 'k', ' ', 'i', 's', ' ', 'c', 'o', 'o', 'l', '.', 'i', ' ', 'l', 'o', 'v', 'e', ' ', 'i', 'r', 'o', 'n', 'h', 'a', 'c', 'k', '.', 'i', ' ', 'a', 'm', ' ', 'a', ' ', 's', 't', 'u', 'd', 'e', 'n', 't', ' ', 'a', 't', ' ', 'i', 'r', 'o', 'n', 'h', 'a', 'c', 'k', '.', 'i', 'r', 'o', 'n', 'h', 'a', 'c', 'k', ' ', 'i', 's', ' ', 'c', 'o', 'o', 'l', '.', 'i', ' ', 'l', 'o', 'v', 'e', ' ', 'i', 'r', 'o', 'n', 'h', 'a', 'c', 'k', '.', 'i', ' ', 'a', 'm', ' ', 'a', ' ', 's', 't', 'u', 'd', 'e', 'n', 't', ' ', 'a', 't', ' ', 'i', 'r', 'o', 'n', 'h', 'a', 'c', 'k', '.', 'i', 'r', 'o', 'n', 'h', 'a', 'c', 'k', ' ', 'i', 's', ' ', 'c', 'o', 'o', 'l', '.', 'i', ' ', 'l', 'o', 'v', 'e', ' ', 'i', 'r', 'o', 'n', 'h', 'a', 'c', 'k', '.', 'i', ' ', 'a', 'm', ' ', 'a', ' ', 's', 't', 'u', 'd', 'e', 'n', 't', ' ', 'a', 't', ' ', 'i', 'r', 'o', 'n', 'h', 'a', 'c', 'k', '.', 'i', 'r', 'o', 'n', 'h', 'a', 'c', 'k', ' ', 'i', 's', ' ', 'c', 'o', 'o', 'l', '.', 'i', ' ', 'l', 'o', 'v', 'e', ' ', 'i', 'r', 'o', 'n', 'h', 'a', 'c', 'k', '.', 'i', ' ', 'a', 'm', ' ', 'a', ' ', 's', 't', 'u', 'd', 'e', 'n', 't', ' ', 'a', 't', ' ', 'i', 'r', 'o', 'n', 'h', 'a', 'c', 'k', '.', 'i', 'r', 'o', 'n', 'h', 'a', 'c', 'k', ' ', 'i', 's', ' ', 'c', 'o', 'o', 'l', '.', 'i', ' ', 'l', 'o', 'v', 'e', ' ', 'i', 'r', 'o', 'n', 'h', 'a', 'c', 'k', '.', 'i', ' ', 'a', 'm', ' ', 'a', ' ', 's', 't', 'u', 'd', 'e', 'n', 't', ' ', 'a', 't', ' ', 'i', 'r', 'o', 'n', 'h', 'a', 'c', 'k', '.', 'i', 'r', 'o', 'n', 'h', 'a', 'c', 'k', ' ', 'i', 's', ' ', 'c', 'o', 'o', 'l', '.', 'i', ' ', 'l', 'o', 'v', 'e', ' ', 'i', 'r', 'o', 'n', 'h', 'a', 'c', 'k', '.', 'i', ' ', 'a', 'm', ' ', 'a', ' ', 's', 't', 'u', 'd', 'e', 'n', 't', ' ', 'a', 't', ' ', 'i', 'r', 'o', 'n', 'h', 'a', 'c', 'k', '.', 'i', 'r', 'o', 'n', 'h', 'a', 'c', 'k', ' ', 'i', 's', ' ', 'c', 'o', 'o', 'l', '.', 'i', ' ', 'l', 'o', 'v', 'e', ' ', 'i', 'r', 'o', 'n', 'h', 'a', 'c', 'k', '.', 'i', ' ', 'a', 'm', ' ', 'a', ' ', 's', 't', 'u', 'd', 'e', 'n', 't', ' ', 'a', 't', ' ', 'i', 'r', 'o', 'n', 'h', 'a', 'c', 'k', '.', 'i', 'r', 'o', 'n', 'h', 'a', 'c', 'k', ' ', 'i', 's', ' ', 'c', 'o', 'o', 'l', '.', 'i', ' ', 'l', 'o', 'v', 'e', ' ', 'i', 'r', 'o', 'n', 'h', 'a', 'c', 'k', '.', 'i', ' ', 'a', 'm', ' ', 'a', ' ', 's', 't', 'u', 'd', 'e', 'n', 't', ' ', 'a', 't', ' ', 'i', 'r', 'o', 'n', 'h', 'a', 'c', 'k', '.', 'i', 'r', 'o', 'n', 'h', 'a', 'c', 'k', ' ', 'i', 's', ' ', 'c', 'o', 'o', 'l', '.', 'i', ' ', 'l', 'o', 'v', 'e', ' ', 'i', 'r', 'o', 'n', 'h', 'a', 'c', 'k', '.', 'i', ' ', 'a', 'm', ' ', 'a', ' ', 's', 't', 'u', 'd', 'e', 'n', 't', ' ', 'a', 't', ' ', 'i', 'r', 'o', 'n', 'h', 'a', 'c', 'k', '.', 'i', 'r', 'o', 'n', 'h', 'a', 'c', 'k', ' ', 'i', 's', ' ', 'c', 'o', 'o', 'l', '.', 'i', ' ', 'l', 'o', 'v', 'e', ' ', 'i', 'r', 'o', 'n', 'h', 'a', 'c', 'k', '.', 'i', ' ', 'a', 'm', ' ', 'a', ' ', 's', 't', 'u', 'd', 'e', 'n', 't', ' ', 'a', 't', ' ', 'i', 'r', 'o', 'n', 'h', 'a', 'c', 'k', '.', 'i', 'r', 'o', 'n', 'h', 'a', 'c', 'k', ' ', 'i', 's', ' ', 'c', 'o', 'o', 'l', '.', 'i', ' ', 'l', 'o', 'v', 'e', ' ', 'i', 'r', 'o', 'n', 'h', 'a', 'c', 'k', '.', 'i', ' ', 'a', 'm', ' ', 'a', ' ', 's', 't', 'u', 'd', 'e', 'n', 't', ' ', 'a', 't', ' ', 'i', 'r', 'o', 'n', 'h', 'a', 'c', 'k', '.', 'i', 'r', 'o', 'n', 'h', 'a', 'c', 'k', ' ', 'i', 's', ' ', 'c', 'o', 'o', 'l', '.', 'i', ' ', 'l', 'o', 'v', 'e', ' ', 'i', 'r', 'o', 'n', 'h', 'a', 'c', 'k', '.', 'i', ' ', 'a', 'm', ' ', 'a', ' ', 's', 't', 'u', 'd', 'e', 'n', 't', ' ', 'a', 't', ' ', 'i', 'r', 'o', 'n', 'h', 'a', 'c', 'k', '.', 'i', 'r', 'o', 'n', 'h', 'a', 'c', 'k', ' ', 'i', 's', ' ', 'c', 'o', 'o', 'l', '.', 'i', ' ', 'l', 'o', 'v', 'e', ' ', 'i', 'r', 'o', 'n', 'h', 'a', 'c', 'k', '.', 'i', ' ', 'a', 'm', ' ', 'a', ' ', 's', 't', 'u', 'd', 'e', 'n', 't', ' ', 'a', 't', ' ', 'i', 'r', 'o', 'n', 'h', 'a', 'c', 'k', '.', 'i', 'r', 'o', 'n', 'h', 'a', 'c', 'k', ' ', 'i', 's', ' ', 'c', 'o', 'o', 'l', '.', 'i', ' ', 'l', 'o', 'v', 'e', ' ', 'i', 'r', 'o', 'n', 'h', 'a', 'c', 'k', '.', 'i', ' ', 'a', 'm', ' ', 'a', ' ', 's', 't', 'u', 'd', 'e', 'n', 't', ' ', 'a', 't', ' ', 'i', 'r', 'o', 'n', 'h', 'a', 'c', 'k', '.', 'i', 'r', 'o', 'n', 'h', 'a', 'c', 'k', ' ', 'i', 's', ' ', 'c', 'o', 'o', 'l', '.', 'i', ' ', 'l', 'o', 'v', 'e', ' ', 'i', 'r', 'o', 'n', 'h', 'a', 'c', 'k', '.', 'i', ' ', 'a', 'm', ' ', 'a', ' ', 's', 't', 'u', 'd', 'e', 'n', 't', ' ', 'a', 't', ' ', 'i', 'r', 'o', 'n', 'h', 'a', 'c', 'k', '.', 'i', 'r', 'o', 'n', 'h', 'a', 'c', 'k', ' ', 'i', 's', ' ', 'c', 'o', 'o', 'l', '.', 'i', ' ', 'l', 'o', 'v', 'e', ' ', 'i', 'r', 'o', 'n', 'h', 'a', 'c', 'k', '.', 'i', ' ', 'a', 'm', ' ', 'a', ' ', 's', 't', 'u', 'd', 'e', 'n', 't', ' ', 'a', 't', ' ', 'i', 'r', 'o', 'n', 'h', 'a', 'c', 'k', '.', 'i', 'r', 'o', 'n', 'h', 'a', 'c', 'k', ' ', 'i', 's', ' ', 'c', 'o', 'o', 'l', '.', 'i', ' ', 'l', 'o', 'v', 'e', ' ', 'i', 'r', 'o', 'n', 'h', 'a', 'c', 'k', '.', 'i', ' ', 'a', 'm', ' ', 'a', ' ', 's', 't', 'u', 'd', 'e', 'n', 't', ' ', 'a', 't', ' ', 'i', 'r', 'o', 'n', 'h', 'a', 'c', 'k', '.', 'i', 'r', 'o', 'n', 'h', 'a', 'c', 'k', ' ', 'i', 's', ' ', 'c', 'o', 'o', 'l', '.', 'i', ' ', 'l', 'o', 'v', 'e', ' ', 'i', 'r', 'o', 'n', 'h', 'a', 'c', 'k', '.', 'i', ' ', 'a', 'm', ' ', 'a', ' ', 's', 't', 'u', 'd', 'e', 'n', 't', ' ', 'a', 't', ' ', 'i', 'r', 'o', 'n', 'h', 'a', 'c', 'k', '.', 'i', 'r', 'o', 'n', 'h', 'a', 'c', 'k', ' ', 'i', 's', ' ', 'c', 'o', 'o', 'l', '.', 'i', ' ', 'l', 'o', 'v', 'e', ' ', 'i', 'r', 'o', 'n', 'h', 'a', 'c', 'k', '.', 'i', ' ', 'a', 'm', ' ', 'a', ' ', 's', 't', 'u', 'd', 'e', 'n', 't', ' ', 'a', 't', ' ', 'i', 'r', 'o', 'n', 'h', 'a', 'c', 'k', '.', 'i', 'r', 'o', 'n', 'h', 'a', 'c', 'k', ' ', 'i', 's', ' ', 'c', 'o', 'o', 'l', '.', 'i', ' ', 'l', 'o', 'v', 'e', ' ', 'i', 'r', 'o', 'n', 'h', 'a', 'c', 'k', '.', 'i', ' ', 'a', 'm', ' ', 'a', ' ', 's', 't', 'u', 'd', 'e', 'n', 't', ' ', 'a', 't', ' ', 'i', 'r', 'o', 'n', 'h', 'a', 'c', 'k', '.', 'i', 'r', 'o', 'n', 'h', 'a', 'c', 'k', ' ', 'i', 's', ' ', 'c', 'o', 'o', 'l', '.', 'i', ' ', 'l', 'o', 'v', 'e', ' ', 'i', 'r', 'o', 'n', 'h', 'a', 'c', 'k', '.', 'i', ' ', 'a', 'm', ' ', 'a', ' ', 's', 't', 'u', 'd', 'e', 'n', 't', ' ', 'a', 't', ' ', 'i', 'r', 'o', 'n', 'h', 'a', 'c', 'k', '.', 'i', 'r', 'o', 'n', 'h', 'a', 'c', 'k', ' ', 'i', 's', ' ', 'c', 'o', 'o', 'l', '.', 'i', ' ', 'l', 'o', 'v', 'e', ' ', 'i', 'r', 'o', 'n', 'h', 'a', 'c', 'k', '.', 'i', ' ', 'a', 'm', ' ', 'a', ' ', 's', 't', 'u', 'd', 'e', 'n', 't', ' ', 'a', 't', ' ', 'i', 'r', 'o', 'n', 'h', 'a', 'c', 'k', '.', 'i', 'r', 'o', 'n', 'h', 'a', 'c', 'k', ' ', 'i', 's', ' ', 'c', 'o', 'o', 'l', '.', 'i', ' ', 'l', 'o', 'v', 'e', ' ', 'i', 'r', 'o', 'n', 'h', 'a', 'c', 'k', '.', 'i', ' ', 'a', 'm', ' ', 'a', ' ', 's', 't', 'u', 'd', 'e', 'n', 't', ' ', 'a', 't', ' ', 'i', 'r', 'o', 'n', 'h', 'a', 'c', 'k', '.', 'i', 'r', 'o', 'n', 'h', 'a', 'c', 'k', ' ', 'i', 's', ' ', 'c', 'o', 'o', 'l', '.', 'i', ' ', 'l', 'o', 'v', 'e', ' ', 'i', 'r', 'o', 'n', 'h', 'a', 'c', 'k', '.', 'i', ' ', 'a', 'm', ' ', 'a', ' ', 's', 't', 'u', 'd', 'e', 'n', 't', ' ', 'a', 't', ' ', 'i', 'r', 'o', 'n', 'h', 'a', 'c', 'k', '.', 'i', 'r', 'o', 'n', 'h', 'a', 'c', 'k', ' ', 'i', 's', ' ', 'c', 'o', 'o', 'l', '.', 'i', ' ', 'l', 'o', 'v', 'e', ' ', 'i', 'r', 'o', 'n', 'h', 'a', 'c', 'k', '.', 'i', ' ', 'a', 'm', ' ', 'a', ' ', 's', 't', 'u', 'd', 'e', 'n', 't', ' ', 'a', 't', ' ', 'i', 'r', 'o', 'n', 'h', 'a', 'c', 'k', '.', 'i', 'r', 'o', 'n', 'h', 'a', 'c', 'k', ' ', 'i', 's', ' ', 'c', 'o', 'o', 'l', '.', 'i', ' ', 'l', 'o', 'v', 'e', ' ', 'i', 'r', 'o', 'n', 'h', 'a', 'c', 'k', '.', 'i', ' ', 'a', 'm', ' ', 'a', ' ', 's', 't', 'u', 'd', 'e', 'n', 't', ' ', 'a', 't', ' ', 'i', 'r', 'o', 'n', 'h', 'a', 'c', 'k', '.', 'i', 'r', 'o', 'n', 'h', 'a', 'c', 'k', ' ', 'i', 's', ' ', 'c', 'o', 'o', 'l', '.', 'i', ' ', 'l', 'o', 'v', 'e', ' ', 'i', 'r', 'o', 'n', 'h', 'a', 'c', 'k', '.', 'i', ' ', 'a', 'm', ' ', 'a', ' ', 's', 't', 'u', 'd', 'e', 'n', 't', ' ', 'a', 't', ' ', 'i', 'r', 'o', 'n', 'h', 'a', 'c', 'k', '.', 'i', 'r', 'o', 'n', 'h', 'a', 'c', 'k', ' ', 'i', 's', ' ', 'c', 'o', 'o', 'l', '.', 'i', ' ', 'l', 'o', 'v', 'e', ' ', 'i', 'r', 'o', 'n', 'h', 'a', 'c', 'k', '.', 'i', ' ', 'a', 'm', ' ', 'a', ' ', 's', 't', 'u', 'd', 'e', 'n', 't', ' ', 'a', 't', ' ', 'i', 'r', 'o', 'n', 'h', 'a', 'c', 'k', '.', 'i', 'r', 'o', 'n', 'h', 'a', 'c', 'k', ' ', 'i', 's', ' ', 'c', 'o', 'o', 'l', '.', 'i', ' ', 'l', 'o', 'v', 'e', ' ', 'i', 'r', 'o', 'n', 'h', 'a', 'c', 'k', '.', 'i', ' ', 'a', 'm', ' ', 'a', ' ', 's', 't', 'u', 'd', 'e', 'n', 't', ' ', 'a', 't', ' ', 'i', 'r', 'o', 'n', 'h', 'a', 'c', 'k', '.', 'i', 'r', 'o', 'n', 'h', 'a', 'c', 'k', ' ', 'i', 's', ' ', 'c', 'o', 'o', 'l', '.', 'i', ' ', 'l', 'o', 'v', 'e', ' ', 'i', 'r', 'o', 'n', 'h', 'a', 'c', 'k', '.', 'i', ' ', 'a', 'm', ' ', 'a', ' ', 's', 't', 'u', 'd', 'e', 'n', 't', ' ', 'a', 't', ' ', 'i', 'r', 'o', 'n', 'h', 'a', 'c', 'k', '.', 'i', 'r', 'o', 'n', 'h', 'a', 'c', 'k', ' ', 'i', 's', ' ', 'c', 'o', 'o', 'l', '.', 'i', ' ', 'l', 'o', 'v', 'e', ' ', 'i', 'r', 'o', 'n', 'h', 'a', 'c', 'k', '.', 'i', ' ', 'a', 'm', ' ', 'a', ' ', 's', 't', 'u', 'd', 'e', 'n', 't', ' ', 'a', 't', ' ', 'i', 'r', 'o', 'n', 'h', 'a', 'c', 'k', '.', 'i', 'r', 'o', 'n', 'h', 'a', 'c', 'k', ' ', 'i', 's', ' ', 'c', 'o', 'o', 'l', '.', 'i', ' ', 'l', 'o', 'v', 'e', ' ', 'i', 'r', 'o', 'n', 'h', 'a', 'c', 'k', '.', 'i', ' ', 'a', 'm', ' ', 'a', ' ', 's', 't', 'u', 'd', 'e', 'n', 't', ' ', 'a', 't', ' ', 'i', 'r', 'o', 'n', 'h', 'a', 'c', 'k', '.', 'i', 'r', 'o', 'n', 'h', 'a', 'c', 'k', ' ', 'i', 's', ' ', 'c', 'o', 'o', 'l', '.', 'i', ' ', 'l', 'o', 'v', 'e', ' ', 'i', 'r', 'o', 'n', 'h', 'a', 'c', 'k', '.', 'i', ' ', 'a', 'm', ' ', 'a', ' ', 's', 't', 'u', 'd', 'e', 'n', 't', ' ', 'a', 't', ' ', 'i', 'r', 'o', 'n', 'h', 'a', 'c', 'k', '.', 'i', 'r', 'o', 'n', 'h', 'a', 'c', 'k', ' ', 'i', 's', ' ', 'c', 'o', 'o', 'l', '.', 'i', ' ', 'l', 'o', 'v', 'e', ' ', 'i', 'r', 'o', 'n', 'h', 'a', 'c', 'k', '.', 'i', ' ', 'a', 'm', ' ', 'a', ' ', 's', 't', 'u', 'd', 'e', 'n', 't', ' ', 'a', 't', ' ', 'i', 'r', 'o', 'n', 'h', 'a', 'c', 'k', '.', 'i', 'r', 'o', 'n', 'h', 'a', 'c', 'k', ' ', 'i', 's', ' ', 'c', 'o', 'o', 'l', '.', 'i', ' ', 'l', 'o', 'v', 'e', ' ', 'i', 'r', 'o', 'n', 'h', 'a', 'c', 'k', '.', 'i', ' ', 'a', 'm', ' ', 'a', ' ', 's', 't', 'u', 'd', 'e', 'n', 't', ' ', 'a', 't', ' ', 'i', 'r', 'o', 'n', 'h', 'a', 'c', 'k', '.', 'i', 'r', 'o', 'n', 'h', 'a', 'c', 'k', ' ', 'i', 's', ' ', 'c', 'o', 'o', 'l', '.', 'i', ' ', 'l', 'o', 'v', 'e', ' ', 'i', 'r', 'o', 'n', 'h', 'a', 'c', 'k', '.', 'i', ' ', 'a', 'm', ' ', 'a', ' ', 's', 't', 'u', 'd', 'e', 'n', 't', ' ', 'a', 't', ' ', 'i', 'r', 'o', 'n', 'h', 'a', 'c', 'k', '.', 'i', 'r', 'o', 'n', 'h', 'a', 'c', 'k', ' ', 'i', 's', ' ', 'c', 'o', 'o', 'l', '.', 'i', ' ', 'l', 'o', 'v', 'e', ' ', 'i', 'r', 'o', 'n', 'h', 'a', 'c', 'k', '.', 'i', ' ', 'a', 'm', ' ', 'a', ' ', 's', 't', 'u', 'd', 'e', 'n', 't', ' ', 'a', 't', ' ', 'i', 'r', 'o', 'n', 'h', 'a', 'c', 'k', '.', 'i', 'r', 'o', 'n', 'h', 'a', 'c', 'k', ' ', 'i', 's', ' ', 'c', 'o', 'o', 'l', '.', 'i', ' ', 'l', 'o', 'v', 'e', ' ', 'i', 'r', 'o', 'n', 'h', 'a', 'c', 'k', '.', 'i', ' ', 'a', 'm', ' ', 'a', ' ', 's', 't', 'u', 'd', 'e', 'n', 't', ' ', 'a', 't', ' ', 'i', 'r', 'o', 'n', 'h', 'a', 'c', 'k', '.', 'i', 'r', 'o', 'n', 'h', 'a', 'c', 'k', ' ', 'i', 's', ' ', 'c', 'o', 'o', 'l', '.', 'i', ' ', 'l', 'o', 'v', 'e', ' ', 'i', 'r', 'o', 'n', 'h', 'a', 'c', 'k', '.', 'i', ' ', 'a', 'm', ' ', 'a', ' ', 's', 't', 'u', 'd', 'e', 'n', 't', ' ', 'a', 't', ' ', 'i', 'r', 'o', 'n', 'h', 'a', 'c', 'k', '.', 'i', 'r', 'o', 'n', 'h', 'a', 'c', 'k', ' ', 'i', 's', ' ', 'c', 'o', 'o', 'l', '.', 'i', ' ', 'l', 'o', 'v', 'e', ' ', 'i', 'r', 'o', 'n', 'h', 'a', 'c', 'k', '.', 'i', ' ', 'a', 'm', ' ', 'a', ' ', 's', 't', 'u', 'd', 'e', 'n', 't', ' ', 'a', 't', ' ', 'i', 'r', 'o', 'n', 'h', 'a', 'c', 'k', '.', 'i', 'r', 'o', 'n', 'h', 'a', 'c', 'k', ' ', 'i', 's', ' ', 'c', 'o', 'o', 'l', '.', 'i', ' ', 'l', 'o', 'v', 'e', ' ', 'i', 'r', 'o', 'n', 'h', 'a', 'c', 'k', '.', 'i', ' ', 'a', 'm', ' ', 'a', ' ', 's', 't', 'u', 'd', 'e', 'n', 't', ' ', 'a', 't', ' ', 'i', 'r', 'o', 'n', 'h', 'a', 'c', 'k', '.', 'i', 'r', 'o', 'n', 'h', 'a', 'c', 'k', ' ', 'i', 's', ' ', 'c', 'o', 'o', 'l', '.', 'i', ' ', 'l', 'o', 'v', 'e', ' ', 'i', 'r', 'o', 'n', 'h', 'a', 'c', 'k', '.', 'i', ' ', 'a', 'm', ' ', 'a', ' ', 's', 't', 'u', 'd', 'e', 'n', 't', ' ', 'a', 't', ' ', 'i', 'r', 'o', 'n', 'h', 'a', 'c', 'k', '.', 'i', 'r', 'o', 'n', 'h', 'a', 'c', 'k', ' ', 'i', 's', ' ', 'c', 'o', 'o', 'l', '.', 'i', ' ', 'l', 'o', 'v', 'e', ' ', 'i', 'r', 'o', 'n', 'h', 'a', 'c', 'k', '.', 'i', ' ', 'a', 'm', ' ', 'a', ' ', 's', 't', 'u', 'd', 'e', 'n', 't', ' ', 'a', 't', ' ', 'i', 'r', 'o', 'n', 'h', 'a', 'c', 'k', '.', 'i', 'r', 'o', 'n', 'h', 'a', 'c', 'k', ' ', 'i', 's', ' ', 'c', 'o', 'o', 'l', '.', 'i', ' ', 'l', 'o', 'v', 'e', ' ', 'i', 'r', 'o', 'n', 'h', 'a', 'c', 'k', '.', 'i', ' ', 'a', 'm', ' ', 'a', ' ', 's', 't', 'u', 'd', 'e', 'n', 't', ' ', 'a', 't', ' ', 'i', 'r', 'o', 'n', 'h', 'a', 'c', 'k', '.', 'i', 'r', 'o', 'n', 'h', 'a', 'c', 'k', ' ', 'i', 's', ' ', 'c', 'o', 'o', 'l', '.', 'i', ' ', 'l', 'o', 'v', 'e', ' ', 'i', 'r', 'o', 'n', 'h', 'a', 'c', 'k', '.', 'i', ' ', 'a', 'm', ' ', 'a', ' ', 's', 't', 'u', 'd', 'e', 'n', 't', ' ', 'a', 't', ' ', 'i', 'r', 'o', 'n', 'h', 'a', 'c', 'k', '.', 'i', 'r', 'o', 'n', 'h', 'a', 'c', 'k', ' ', 'i', 's', ' ', 'c', 'o', 'o', 'l', '.', 'i', ' ', 'l', 'o', 'v', 'e', ' ', 'i', 'r', 'o', 'n', 'h', 'a', 'c', 'k', '.', 'i', ' ', 'a', 'm', ' ', 'a', ' ', 's', 't', 'u', 'd', 'e', 'n', 't', ' ', 'a', 't', ' ', 'i', 'r', 'o', 'n', 'h', 'a', 'c', 'k', '.', 'i', 'r', 'o', 'n', 'h', 'a', 'c', 'k', ' ', 'i', 's', ' ', 'c', 'o', 'o', 'l', '.', 'i', ' ', 'l', 'o', 'v', 'e', ' ', 'i', 'r', 'o', 'n', 'h', 'a', 'c', 'k', '.', 'i', ' ', 'a', 'm', ' ', 'a', ' ', 's', 't', 'u', 'd', 'e', 'n', 't', ' ', 'a', 't', ' ', 'i', 'r', 'o', 'n', 'h', 'a', 'c', 'k', '.', 'i', 'r', 'o', 'n', 'h', 'a', 'c', 'k', ' ', 'i', 's', ' ', 'c', 'o', 'o', 'l', '.', 'i', ' ', 'l', 'o', 'v', 'e', ' ', 'i', 'r', 'o', 'n', 'h', 'a', 'c', 'k', '.', 'i', ' ', 'a', 'm', ' ', 'a', ' ', 's', 't', 'u', 'd', 'e', 'n', 't', ' ', 'a', 't', ' ', 'i', 'r', 'o', 'n', 'h', 'a', 'c', 'k', '.', 'i', 'r', 'o', 'n', 'h', 'a', 'c', 'k', ' ', 'i', 's', ' ', 'c', 'o', 'o', 'l', '.', 'i', ' ', 'l', 'o', 'v', 'e', ' ', 'i', 'r', 'o', 'n', 'h', 'a', 'c', 'k', '.', 'i', ' ', 'a', 'm', ' ', 'a', ' ', 's', 't', 'u', 'd', 'e', 'n', 't', ' ', 'a', 't', ' ', 'i', 'r', 'o', 'n', 'h', 'a', 'c', 'k', '.', 'i', 'r', 'o', 'n', 'h', 'a', 'c', 'k', ' ', 'i', 's', ' ', 'c', 'o', 'o', 'l', '.', 'i', ' ', 'l', 'o', 'v', 'e', ' ', 'i', 'r', 'o', 'n', 'h', 'a', 'c', 'k', '.', 'i', ' ', 'a', 'm', ' ', 'a', ' ', 's', 't', 'u', 'd', 'e', 'n', 't', ' ', 'a', 't', ' ', 'i', 'r', 'o', 'n', 'h', 'a', 'c', 'k', '.']\n"
     ]
    }
   ],
   "source": [
    "bag_of_words = []\n",
    "\n",
    "corpus= \"\".join(corpus)\n",
    "\n",
    "for palabra in corpus:\n",
    "    corpus= \"\".join(corpus)\n",
    "    for palabra in corpus:\n",
    "         bag_of_words.append(palabra)\n",
    "        \n",
    "\n",
    "print(bag_of_words)\n",
    "# Write your code here"
   ]
  },
  {
   "cell_type": "markdown",
   "metadata": {},
   "source": [
    "Print `bag_of_words`. You should see: \n",
    "\n",
    "```['ironhack', 'is', 'cool', 'i', 'love', 'am', 'a', 'student', 'at']```"
   ]
  },
  {
   "cell_type": "code",
   "execution_count": null,
   "metadata": {},
   "outputs": [],
   "source": []
  },
  {
   "cell_type": "markdown",
   "metadata": {},
   "source": [
    "Now we define an empty array called `term_freq`. Loop `corpus` for a second time. In each loop, create a sub-loop to iterate the terms in `bag_of_words`. Count how many times each term appears in each doc of `corpus`. Append the term-frequency array to `term_freq`."
   ]
  },
  {
   "cell_type": "code",
   "execution_count": null,
   "metadata": {},
   "outputs": [],
   "source": [
    "term_freq = []\n",
    "#no he conseguido solucionar lo anterior.\n",
    "\n",
    "\n",
    "\n",
    "\n",
    "# Write your code here"
   ]
  },
  {
   "cell_type": "markdown",
   "metadata": {},
   "source": [
    "Print `term_freq`. You should see:\n",
    "\n",
    "```[[1, 1, 1, 0, 0, 0, 0, 0, 0], [1, 0, 0, 1, 1, 0, 0, 0, 0], [1, 0, 0, 1, 0, 1, 1, 1, 1]]```"
   ]
  },
  {
   "cell_type": "code",
   "execution_count": null,
   "metadata": {},
   "outputs": [],
   "source": [
    "\n",
    "\n",
    "\n",
    "#no he conseguido solucionar lo anterior."
   ]
  },
  {
   "cell_type": "markdown",
   "metadata": {},
   "source": [
    "**If your answer is correct, congratulations! You've solved the challenge!**\n",
    "\n",
    "If not, go back and check for errors in your code."
   ]
  }
 ],
 "metadata": {
  "kernelspec": {
   "display_name": "Python 3 (ipykernel)",
   "language": "python",
   "name": "python3"
  },
  "language_info": {
   "codemirror_mode": {
    "name": "ipython",
    "version": 3
   },
   "file_extension": ".py",
   "mimetype": "text/x-python",
   "name": "python",
   "nbconvert_exporter": "python",
   "pygments_lexer": "ipython3",
   "version": "3.9.12"
  }
 },
 "nbformat": 4,
 "nbformat_minor": 2
}
