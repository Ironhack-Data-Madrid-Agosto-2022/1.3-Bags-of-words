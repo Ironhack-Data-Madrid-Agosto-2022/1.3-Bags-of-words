{
 "cells": [
  {
   "cell_type": "markdown",
   "metadata": {},
   "source": [
    "Define `docs` array that contains the paths of `doc1.txt`, `doc2.txt`, and `doc3.txt`."
   ]
  },
  {
   "cell_type": "code",
   "execution_count": 3,
   "metadata": {},
   "outputs": [
    {
     "ename": "TypeError",
     "evalue": "'function' object is not iterable",
     "output_type": "error",
     "traceback": [
      "\u001b[0;31m---------------------------------------------------------------------------\u001b[0m",
      "\u001b[0;31mTypeError\u001b[0m                                 Traceback (most recent call last)",
      "\u001b[1;32m/Users/jaimemac/Documents/Github Access/Ejercicios-Clase-Semana1/1.3-Bags-of-words/your-code/main.ipynb Celda 2\u001b[0m in \u001b[0;36m<cell line: 6>\u001b[0;34m()\u001b[0m\n\u001b[1;32m      <a href='vscode-notebook-cell:/Users/jaimemac/Documents/Github%20Access/Ejercicios-Clase-Semana1/1.3-Bags-of-words/your-code/main.ipynb#ch0000001?line=0'>1</a>\u001b[0m \u001b[39mfrom\u001b[39;00m \u001b[39mfileinput\u001b[39;00m \u001b[39mimport\u001b[39;00m filename\n\u001b[1;32m      <a href='vscode-notebook-cell:/Users/jaimemac/Documents/Github%20Access/Ejercicios-Clase-Semana1/1.3-Bags-of-words/your-code/main.ipynb#ch0000001?line=3'>4</a>\u001b[0m docs \u001b[39m=\u001b[39m [\u001b[39m'\u001b[39m\u001b[39mdoc1.txt\u001b[39m\u001b[39m'\u001b[39m, \u001b[39m'\u001b[39m\u001b[39mdoc2.txt\u001b[39m\u001b[39m'\u001b[39m, \u001b[39m'\u001b[39m\u001b[39mdoc3.txt\u001b[39m\u001b[39m'\u001b[39m]\n\u001b[0;32m----> <a href='vscode-notebook-cell:/Users/jaimemac/Documents/Github%20Access/Ejercicios-Clase-Semana1/1.3-Bags-of-words/your-code/main.ipynb#ch0000001?line=5'>6</a>\u001b[0m filedata \u001b[39m=\u001b[39m {filename: \u001b[39mopen\u001b[39m(filename, \u001b[39m'\u001b[39m\u001b[39mw\u001b[39m\u001b[39m'\u001b[39m) \u001b[39mfor\u001b[39;00m filename \u001b[39min\u001b[39;00m filename }\n",
      "\u001b[0;31mTypeError\u001b[0m: 'function' object is not iterable"
     ]
    }
   ],
   "source": [
    "from fileinput import filename\n",
    "\n",
    "docs = ['doc1.txt', 'doc2.txt', 'doc3.txt']\n",
    "\n"
   ]
  },
  {
   "cell_type": "markdown",
   "metadata": {},
   "source": [
    "Define an empty array `corpus` that will contain the content strings of the docs. Loop `docs` and read the content of each doc into the `corpus` array."
   ]
  },
  {
   "cell_type": "code",
   "execution_count": 8,
   "metadata": {},
   "outputs": [
    {
     "name": "stdout",
     "output_type": "stream",
     "text": [
      "[<_io.TextIOWrapper name='doc1.txt' mode='r' encoding='UTF-8'>, <_io.TextIOWrapper name='doc2.txt' mode='r' encoding='UTF-8'>, <_io.TextIOWrapper name='doc3.txt' mode='r' encoding='UTF-8'>]\n"
     ]
    }
   ],
   "source": [
    "corpus = [open (i, 'r') for i in docs]\n",
    "print (corpus)\n",
    "\n",
    "# Write your code here"
   ]
  },
  {
   "cell_type": "markdown",
   "metadata": {},
   "source": [
    "Print `corpus`."
   ]
  },
  {
   "cell_type": "code",
   "execution_count": 9,
   "metadata": {},
   "outputs": [
    {
     "name": "stdout",
     "output_type": "stream",
     "text": [
      "[<_io.TextIOWrapper name='doc1.txt' mode='r' encoding='UTF-8'>, <_io.TextIOWrapper name='doc2.txt' mode='r' encoding='UTF-8'>, <_io.TextIOWrapper name='doc3.txt' mode='r' encoding='UTF-8'>]\n"
     ]
    }
   ],
   "source": [
    "print (corpus)"
   ]
  },
  {
   "cell_type": "markdown",
   "metadata": {},
   "source": [
    "You should have seen:\n",
    "\n",
    "```['ironhack is cool', 'i love ironhack', 'i am a student at ironhack']```\n",
    "\n",
    "However, if your output is:\n",
    "\n",
    "```['Ironhack is cool.', 'I love Ironhack.', 'I am a student at Ironhack.']```\n",
    "\n",
    "This means you didn't:\n",
    "\n",
    "1. Remove punctuation from the strings;\n",
    "\n",
    "1. Convert strings to lowercase.\n",
    "\n",
    "Revise your code above until you receive the correct output for `corpus`."
   ]
  },
  {
   "cell_type": "code",
   "execution_count": 104,
   "metadata": {},
   "outputs": [
    {
     "name": "stdout",
     "output_type": "stream",
     "text": [
      "ironhack is cool.\n",
      "i love ironhack.\n",
      "i am a student at ironhack.\n"
     ]
    }
   ],
   "source": [
    "bag_of_words = ['Ironhack is cool.', 'I love Ironhack.', 'I am a student at Ironhack.']\n",
    "\n",
    "# Write your code here\n",
    "for word in bag_of_words:\n",
    "    result = word.lower()\n",
    "    print (str(result))\n",
    "\n"
   ]
  },
  {
   "cell_type": "code",
   "execution_count": 105,
   "metadata": {},
   "outputs": [
    {
     "ename": "AttributeError",
     "evalue": "'list' object has no attribute 'punctuation'",
     "output_type": "error",
     "traceback": [
      "\u001b[0;31m---------------------------------------------------------------------------\u001b[0m",
      "\u001b[0;31mAttributeError\u001b[0m                            Traceback (most recent call last)",
      "\u001b[1;32m/Users/jaimemac/Documents/Github Access/Ejercicios-Clase-Semana1/1.3-Bags-of-words/your-code/main.ipynb Celda 9\u001b[0m in \u001b[0;36m<cell line: 2>\u001b[0;34m()\u001b[0m\n\u001b[1;32m      <a href='vscode-notebook-cell:/Users/jaimemac/Documents/Github%20Access/Ejercicios-Clase-Semana1/1.3-Bags-of-words/your-code/main.ipynb#ch0000019?line=0'>1</a>\u001b[0m bag_of_words2 \u001b[39m=\u001b[39m [\u001b[39m'\u001b[39m\u001b[39mironhack is cool.\u001b[39m\u001b[39m'\u001b[39m ,\u001b[39m'\u001b[39m\u001b[39mi love ironhack. \u001b[39m\u001b[39m'\u001b[39m, \u001b[39m'\u001b[39m\u001b[39mi am a student at ironhack.\u001b[39m\u001b[39m'\u001b[39m]\n\u001b[0;32m----> <a href='vscode-notebook-cell:/Users/jaimemac/Documents/Github%20Access/Ejercicios-Clase-Semana1/1.3-Bags-of-words/your-code/main.ipynb#ch0000019?line=1'>2</a>\u001b[0m out \u001b[39m=\u001b[39m \u001b[39m'\u001b[39m\u001b[39m'\u001b[39m\u001b[39m.\u001b[39mjoin([i \u001b[39mfor\u001b[39;00m i \u001b[39min\u001b[39;00m bag_of_words2 \u001b[39mif\u001b[39;00m i \u001b[39mnot\u001b[39;00m \u001b[39min\u001b[39;00m  bag_of_words2\u001b[39m.\u001b[39mpunctuation])\n\u001b[1;32m      <a href='vscode-notebook-cell:/Users/jaimemac/Documents/Github%20Access/Ejercicios-Clase-Semana1/1.3-Bags-of-words/your-code/main.ipynb#ch0000019?line=2'>3</a>\u001b[0m \u001b[39mprint\u001b[39m(out)\n",
      "\u001b[1;32m/Users/jaimemac/Documents/Github Access/Ejercicios-Clase-Semana1/1.3-Bags-of-words/your-code/main.ipynb Celda 9\u001b[0m in \u001b[0;36m<listcomp>\u001b[0;34m(.0)\u001b[0m\n\u001b[1;32m      <a href='vscode-notebook-cell:/Users/jaimemac/Documents/Github%20Access/Ejercicios-Clase-Semana1/1.3-Bags-of-words/your-code/main.ipynb#ch0000019?line=0'>1</a>\u001b[0m bag_of_words2 \u001b[39m=\u001b[39m [\u001b[39m'\u001b[39m\u001b[39mironhack is cool.\u001b[39m\u001b[39m'\u001b[39m ,\u001b[39m'\u001b[39m\u001b[39mi love ironhack. \u001b[39m\u001b[39m'\u001b[39m, \u001b[39m'\u001b[39m\u001b[39mi am a student at ironhack.\u001b[39m\u001b[39m'\u001b[39m]\n\u001b[0;32m----> <a href='vscode-notebook-cell:/Users/jaimemac/Documents/Github%20Access/Ejercicios-Clase-Semana1/1.3-Bags-of-words/your-code/main.ipynb#ch0000019?line=1'>2</a>\u001b[0m out \u001b[39m=\u001b[39m \u001b[39m'\u001b[39m\u001b[39m'\u001b[39m\u001b[39m.\u001b[39mjoin([i \u001b[39mfor\u001b[39;00m i \u001b[39min\u001b[39;00m bag_of_words2 \u001b[39mif\u001b[39;00m i \u001b[39mnot\u001b[39;00m \u001b[39min\u001b[39;00m  bag_of_words2\u001b[39m.\u001b[39;49mpunctuation])\n\u001b[1;32m      <a href='vscode-notebook-cell:/Users/jaimemac/Documents/Github%20Access/Ejercicios-Clase-Semana1/1.3-Bags-of-words/your-code/main.ipynb#ch0000019?line=2'>3</a>\u001b[0m \u001b[39mprint\u001b[39m(out)\n",
      "\u001b[0;31mAttributeError\u001b[0m: 'list' object has no attribute 'punctuation'"
     ]
    }
   ],
   "source": [
    "\n",
    "bag_of_words2 = ['ironhack is cool.' ,'i love ironhack. ', 'i am a student at ironhack.']\n",
    "out = ''.join([i for i in bag_of_words2 if i not in  bag_of_words2.punctuation])\n",
    "print(out)"
   ]
  },
  {
   "cell_type": "markdown",
   "metadata": {},
   "source": [
    "Now define `bag_of_words` as an empty array. It will contain the unique terms in `corpus`.\n",
    "\n",
    "Loop through `corpus`. In each loop, do the following:\n",
    "\n",
    "1. Break the string into an array of terms. \n",
    "1. Create a sub-loop to iterate the terms array. \n",
    "  * In each sub-loop, you'll check if the current term is already contained in `bag_of_words`. If not in `bag_of_words`, append it to the array."
   ]
  },
  {
   "cell_type": "markdown",
   "metadata": {},
   "source": [
    "Print `bag_of_words`. You should see: \n",
    "\n",
    "```['ironhack', 'is', 'cool', 'i', 'love', 'am', 'a', 'student', 'at']```"
   ]
  },
  {
   "cell_type": "code",
   "execution_count": 112,
   "metadata": {},
   "outputs": [
    {
     "name": "stdout",
     "output_type": "stream",
     "text": [
      "['ironhack', 'is', 'cool']\n",
      "['i', 'love', 'ironhack']\n",
      "['i', 'am', 'a', 'student', 'at', 'ironhack']\n"
     ]
    }
   ],
   "source": [
    "bag_of_words3 = ['ironhack is cool' ,'i love ironhack', 'i am a student at ironhack']\n",
    "bag_of_words4 = []\n",
    "\n",
    "\n",
    "\n",
    "for strings in bag_of_words3:\n",
    "    bag_of_words4 = strings.split() \n",
    "    print (bag_of_words4)\n"
   ]
  },
  {
   "cell_type": "markdown",
   "metadata": {},
   "source": [
    "Now we define an empty array called `term_freq`. Loop `corpus` for a second time. In each loop, create a sub-loop to iterate the terms in `bag_of_words`. Count how many times each term appears in each doc of `corpus`. Append the term-frequency array to `term_freq`."
   ]
  },
  {
   "cell_type": "code",
   "execution_count": null,
   "metadata": {},
   "outputs": [],
   "source": [
    "term_freq = []\n",
    "\n",
    "\n",
    "# Write your code here"
   ]
  },
  {
   "cell_type": "markdown",
   "metadata": {},
   "source": [
    "Print `term_freq`. You should see:\n",
    "\n",
    "```[[1, 1, 1, 0, 0, 0, 0, 0, 0], [1, 0, 0, 1, 1, 0, 0, 0, 0], [1, 0, 0, 1, 0, 1, 1, 1, 1]]```"
   ]
  },
  {
   "cell_type": "code",
   "execution_count": null,
   "metadata": {},
   "outputs": [],
   "source": []
  },
  {
   "cell_type": "markdown",
   "metadata": {},
   "source": [
    "**If your answer is correct, congratulations! You've solved the challenge!**\n",
    "\n",
    "If not, go back and check for errors in your code."
   ]
  }
 ],
 "metadata": {
  "kernelspec": {
   "display_name": "Python 3.10.5 64-bit",
   "language": "python",
   "name": "python3"
  },
  "language_info": {
   "codemirror_mode": {
    "name": "ipython",
    "version": 3
   },
   "file_extension": ".py",
   "mimetype": "text/x-python",
   "name": "python",
   "nbconvert_exporter": "python",
   "pygments_lexer": "ipython3",
   "version": "3.10.5"
  },
  "vscode": {
   "interpreter": {
    "hash": "aee8b7b246df8f9039afb4144a1f6fd8d2ca17a180786b69acc140d282b71a49"
   }
  }
 },
 "nbformat": 4,
 "nbformat_minor": 2
}
